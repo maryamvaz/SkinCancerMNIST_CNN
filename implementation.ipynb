{
 "cells": [
  {
   "cell_type": "markdown",
   "metadata": {},
   "source": [
    "## Maryam Vazirabad\n",
    "## Final Project : Building a CNN model and training it on skin-cancer dataset (categorizing images)\n",
    "## 11/22/2019\n",
    "### Using Skin Cancer MNIST: HAM10000 Dataset found here: https://www.kaggle.com/kmader/skin-cancer-mnist-ham10000\n",
    "### This dataset contains approximately 10,000 different images of skin lesions and has seven categories of images (for each type of skin lesion we are attempting to classify) and are about 600x450 pixels. This is a huge dataset in terms of number of images so I hope I can develop a robust model.\n"
   ]
  },
  {
   "cell_type": "markdown",
   "metadata": {},
   "source": [
    "#### First, we import the necessary libraries:"
   ]
  },
  {
   "cell_type": "code",
   "execution_count": 1,
   "metadata": {},
   "outputs": [
    {
     "name": "stderr",
     "output_type": "stream",
     "text": [
      "Using TensorFlow backend.\n",
      "/Library/Frameworks/Python.framework/Versions/3.7/lib/python3.7/site-packages/tensorflow/python/framework/dtypes.py:516: FutureWarning: Passing (type, 1) or '1type' as a synonym of type is deprecated; in a future version of numpy, it will be understood as (type, (1,)) / '(1,)type'.\n",
      "  _np_qint8 = np.dtype([(\"qint8\", np.int8, 1)])\n",
      "/Library/Frameworks/Python.framework/Versions/3.7/lib/python3.7/site-packages/tensorflow/python/framework/dtypes.py:517: FutureWarning: Passing (type, 1) or '1type' as a synonym of type is deprecated; in a future version of numpy, it will be understood as (type, (1,)) / '(1,)type'.\n",
      "  _np_quint8 = np.dtype([(\"quint8\", np.uint8, 1)])\n",
      "/Library/Frameworks/Python.framework/Versions/3.7/lib/python3.7/site-packages/tensorflow/python/framework/dtypes.py:518: FutureWarning: Passing (type, 1) or '1type' as a synonym of type is deprecated; in a future version of numpy, it will be understood as (type, (1,)) / '(1,)type'.\n",
      "  _np_qint16 = np.dtype([(\"qint16\", np.int16, 1)])\n",
      "/Library/Frameworks/Python.framework/Versions/3.7/lib/python3.7/site-packages/tensorflow/python/framework/dtypes.py:519: FutureWarning: Passing (type, 1) or '1type' as a synonym of type is deprecated; in a future version of numpy, it will be understood as (type, (1,)) / '(1,)type'.\n",
      "  _np_quint16 = np.dtype([(\"quint16\", np.uint16, 1)])\n",
      "/Library/Frameworks/Python.framework/Versions/3.7/lib/python3.7/site-packages/tensorflow/python/framework/dtypes.py:520: FutureWarning: Passing (type, 1) or '1type' as a synonym of type is deprecated; in a future version of numpy, it will be understood as (type, (1,)) / '(1,)type'.\n",
      "  _np_qint32 = np.dtype([(\"qint32\", np.int32, 1)])\n",
      "/Library/Frameworks/Python.framework/Versions/3.7/lib/python3.7/site-packages/tensorflow/python/framework/dtypes.py:525: FutureWarning: Passing (type, 1) or '1type' as a synonym of type is deprecated; in a future version of numpy, it will be understood as (type, (1,)) / '(1,)type'.\n",
      "  np_resource = np.dtype([(\"resource\", np.ubyte, 1)])\n",
      "/Library/Frameworks/Python.framework/Versions/3.7/lib/python3.7/site-packages/tensorboard/compat/tensorflow_stub/dtypes.py:541: FutureWarning: Passing (type, 1) or '1type' as a synonym of type is deprecated; in a future version of numpy, it will be understood as (type, (1,)) / '(1,)type'.\n",
      "  _np_qint8 = np.dtype([(\"qint8\", np.int8, 1)])\n",
      "/Library/Frameworks/Python.framework/Versions/3.7/lib/python3.7/site-packages/tensorboard/compat/tensorflow_stub/dtypes.py:542: FutureWarning: Passing (type, 1) or '1type' as a synonym of type is deprecated; in a future version of numpy, it will be understood as (type, (1,)) / '(1,)type'.\n",
      "  _np_quint8 = np.dtype([(\"quint8\", np.uint8, 1)])\n",
      "/Library/Frameworks/Python.framework/Versions/3.7/lib/python3.7/site-packages/tensorboard/compat/tensorflow_stub/dtypes.py:543: FutureWarning: Passing (type, 1) or '1type' as a synonym of type is deprecated; in a future version of numpy, it will be understood as (type, (1,)) / '(1,)type'.\n",
      "  _np_qint16 = np.dtype([(\"qint16\", np.int16, 1)])\n",
      "/Library/Frameworks/Python.framework/Versions/3.7/lib/python3.7/site-packages/tensorboard/compat/tensorflow_stub/dtypes.py:544: FutureWarning: Passing (type, 1) or '1type' as a synonym of type is deprecated; in a future version of numpy, it will be understood as (type, (1,)) / '(1,)type'.\n",
      "  _np_quint16 = np.dtype([(\"quint16\", np.uint16, 1)])\n",
      "/Library/Frameworks/Python.framework/Versions/3.7/lib/python3.7/site-packages/tensorboard/compat/tensorflow_stub/dtypes.py:545: FutureWarning: Passing (type, 1) or '1type' as a synonym of type is deprecated; in a future version of numpy, it will be understood as (type, (1,)) / '(1,)type'.\n",
      "  _np_qint32 = np.dtype([(\"qint32\", np.int32, 1)])\n",
      "/Library/Frameworks/Python.framework/Versions/3.7/lib/python3.7/site-packages/tensorboard/compat/tensorflow_stub/dtypes.py:550: FutureWarning: Passing (type, 1) or '1type' as a synonym of type is deprecated; in a future version of numpy, it will be understood as (type, (1,)) / '(1,)type'.\n",
      "  np_resource = np.dtype([(\"resource\", np.ubyte, 1)])\n"
     ]
    }
   ],
   "source": [
    "import keras\n",
    "from keras.models import Sequential\n",
    "from keras.layers import Dense, Dropout, Flatten, Conv2D, MaxPool2D\n",
    "from keras.utils.np_utils import to_categorical \n",
    "from keras.optimizers import Adam\n",
    "from keras.callbacks import ReduceLROnPlateau\n",
    "import os\n",
    "import numpy as np\n",
    "import pandas as pd\n",
    "import matplotlib.pyplot as plt\n",
    "import seaborn as sns\n",
    "from glob import glob\n",
    "from PIL import Image\n",
    "from sklearn.model_selection import train_test_split\n",
    "from warnings import filterwarnings\n",
    "np.random.seed(101)"
   ]
  },
  {
   "cell_type": "markdown",
   "metadata": {},
   "source": [
    "## Processing the data:"
   ]
  },
  {
   "cell_type": "markdown",
   "metadata": {},
   "source": [
    "#### Next, we load the data, merging images from folders into one dictionary\n",
    "#### Used glob to get the path of each image (got help from stackoverflow: https://stackoverflow.com/questions/51434091/python-globbing-a-directory-of-images). The key of the dictionary will be each image name and the value the relative path to that image (type of lesion) \n",
    "#### The dictionary will help us with the one-hot encoding"
   ]
  },
  {
   "cell_type": "code",
   "execution_count": 2,
   "metadata": {},
   "outputs": [],
   "source": [
    "files = '../input'\n",
    "image_paths = {os.path.splitext(os.path.basename(x))[0]: x for x in glob(os.path.join(files, '*', '*.jpg'))}"
   ]
  },
  {
   "cell_type": "markdown",
   "metadata": {},
   "source": [
    "#### the meta data file contains the information about skin lesions and the patients:"
   ]
  },
  {
   "cell_type": "code",
   "execution_count": 3,
   "metadata": {},
   "outputs": [
    {
     "data": {
      "text/html": [
       "<div>\n",
       "<style scoped>\n",
       "    .dataframe tbody tr th:only-of-type {\n",
       "        vertical-align: middle;\n",
       "    }\n",
       "\n",
       "    .dataframe tbody tr th {\n",
       "        vertical-align: top;\n",
       "    }\n",
       "\n",
       "    .dataframe thead th {\n",
       "        text-align: right;\n",
       "    }\n",
       "</style>\n",
       "<table border=\"1\" class=\"dataframe\">\n",
       "  <thead>\n",
       "    <tr style=\"text-align: right;\">\n",
       "      <th></th>\n",
       "      <th>lesion_id</th>\n",
       "      <th>image_id</th>\n",
       "      <th>dx</th>\n",
       "      <th>dx_type</th>\n",
       "      <th>age</th>\n",
       "      <th>sex</th>\n",
       "      <th>localization</th>\n",
       "    </tr>\n",
       "  </thead>\n",
       "  <tbody>\n",
       "    <tr>\n",
       "      <td>0</td>\n",
       "      <td>HAM_0000118</td>\n",
       "      <td>ISIC_0027419</td>\n",
       "      <td>bkl</td>\n",
       "      <td>histo</td>\n",
       "      <td>80.0</td>\n",
       "      <td>male</td>\n",
       "      <td>scalp</td>\n",
       "    </tr>\n",
       "    <tr>\n",
       "      <td>1</td>\n",
       "      <td>HAM_0000118</td>\n",
       "      <td>ISIC_0025030</td>\n",
       "      <td>bkl</td>\n",
       "      <td>histo</td>\n",
       "      <td>80.0</td>\n",
       "      <td>male</td>\n",
       "      <td>scalp</td>\n",
       "    </tr>\n",
       "    <tr>\n",
       "      <td>2</td>\n",
       "      <td>HAM_0002730</td>\n",
       "      <td>ISIC_0026769</td>\n",
       "      <td>bkl</td>\n",
       "      <td>histo</td>\n",
       "      <td>80.0</td>\n",
       "      <td>male</td>\n",
       "      <td>scalp</td>\n",
       "    </tr>\n",
       "    <tr>\n",
       "      <td>3</td>\n",
       "      <td>HAM_0002730</td>\n",
       "      <td>ISIC_0025661</td>\n",
       "      <td>bkl</td>\n",
       "      <td>histo</td>\n",
       "      <td>80.0</td>\n",
       "      <td>male</td>\n",
       "      <td>scalp</td>\n",
       "    </tr>\n",
       "    <tr>\n",
       "      <td>4</td>\n",
       "      <td>HAM_0001466</td>\n",
       "      <td>ISIC_0031633</td>\n",
       "      <td>bkl</td>\n",
       "      <td>histo</td>\n",
       "      <td>75.0</td>\n",
       "      <td>male</td>\n",
       "      <td>ear</td>\n",
       "    </tr>\n",
       "    <tr>\n",
       "      <td>5</td>\n",
       "      <td>HAM_0001466</td>\n",
       "      <td>ISIC_0027850</td>\n",
       "      <td>bkl</td>\n",
       "      <td>histo</td>\n",
       "      <td>75.0</td>\n",
       "      <td>male</td>\n",
       "      <td>ear</td>\n",
       "    </tr>\n",
       "    <tr>\n",
       "      <td>6</td>\n",
       "      <td>HAM_0002761</td>\n",
       "      <td>ISIC_0029176</td>\n",
       "      <td>bkl</td>\n",
       "      <td>histo</td>\n",
       "      <td>60.0</td>\n",
       "      <td>male</td>\n",
       "      <td>face</td>\n",
       "    </tr>\n",
       "    <tr>\n",
       "      <td>7</td>\n",
       "      <td>HAM_0002761</td>\n",
       "      <td>ISIC_0029068</td>\n",
       "      <td>bkl</td>\n",
       "      <td>histo</td>\n",
       "      <td>60.0</td>\n",
       "      <td>male</td>\n",
       "      <td>face</td>\n",
       "    </tr>\n",
       "    <tr>\n",
       "      <td>8</td>\n",
       "      <td>HAM_0005132</td>\n",
       "      <td>ISIC_0025837</td>\n",
       "      <td>bkl</td>\n",
       "      <td>histo</td>\n",
       "      <td>70.0</td>\n",
       "      <td>female</td>\n",
       "      <td>back</td>\n",
       "    </tr>\n",
       "    <tr>\n",
       "      <td>9</td>\n",
       "      <td>HAM_0005132</td>\n",
       "      <td>ISIC_0025209</td>\n",
       "      <td>bkl</td>\n",
       "      <td>histo</td>\n",
       "      <td>70.0</td>\n",
       "      <td>female</td>\n",
       "      <td>back</td>\n",
       "    </tr>\n",
       "  </tbody>\n",
       "</table>\n",
       "</div>"
      ],
      "text/plain": [
       "     lesion_id      image_id   dx dx_type   age     sex localization\n",
       "0  HAM_0000118  ISIC_0027419  bkl   histo  80.0    male        scalp\n",
       "1  HAM_0000118  ISIC_0025030  bkl   histo  80.0    male        scalp\n",
       "2  HAM_0002730  ISIC_0026769  bkl   histo  80.0    male        scalp\n",
       "3  HAM_0002730  ISIC_0025661  bkl   histo  80.0    male        scalp\n",
       "4  HAM_0001466  ISIC_0031633  bkl   histo  75.0    male          ear\n",
       "5  HAM_0001466  ISIC_0027850  bkl   histo  75.0    male          ear\n",
       "6  HAM_0002761  ISIC_0029176  bkl   histo  60.0    male         face\n",
       "7  HAM_0002761  ISIC_0029068  bkl   histo  60.0    male         face\n",
       "8  HAM_0005132  ISIC_0025837  bkl   histo  70.0  female         back\n",
       "9  HAM_0005132  ISIC_0025209  bkl   histo  70.0  female         back"
      ]
     },
     "execution_count": 3,
     "metadata": {},
     "output_type": "execute_result"
    }
   ],
   "source": [
    "skind = pd.read_csv(os.path.join(files, 'HAM10000_metadata.csv'))\n",
    "skind.head(10)"
   ]
  },
  {
   "cell_type": "code",
   "execution_count": 4,
   "metadata": {},
   "outputs": [],
   "source": [
    "skind['image_path'] = skind['image_id'].map(image_paths.get)"
   ]
  },
  {
   "cell_type": "markdown",
   "metadata": {},
   "source": [
    "#### Seven categories of skin diagnoses:\n",
    "#### 1. Actinic Keratoses (squamous cell carcinoma) and Intraepithelial Carcinoma (Bowen’s disease)\n",
    "#### 2. Basal cell carcinoma\n",
    "#### 3. Benign keratosis\n",
    "#### 4. Dermatofibroma\n",
    "#### 5. Melanocytic nevi\n",
    "#### 6. Melanoma"
   ]
  },
  {
   "cell_type": "markdown",
   "metadata": {},
   "source": [
    "#### Key of dictionary is the shorthand name of the lesion and the actual type of lesion is the value of key\n",
    "#### Information about the shorthand for each diagnosis found in this article: https://arxiv.org/ftp/arxiv/papers/1803/1803.10417.pdf"
   ]
  },
  {
   "cell_type": "code",
   "execution_count": 5,
   "metadata": {},
   "outputs": [],
   "source": [
    "diagnoses = {\n",
    "    'nv': 'Melanocytic nevi',\n",
    "    'mel': 'Melanoma',\n",
    "    'bkl': 'Benign keratosis-like lesions ',\n",
    "    'bcc': 'Basal cell carcinoma',\n",
    "    'akiec': 'Actinic keratoses',\n",
    "    'vasc': 'Vascular lesions',\n",
    "    'df': 'Dermatofibroma'}\n",
    "skind['type'] = skind['dx'].map(diagnoses.get)"
   ]
  },
  {
   "cell_type": "markdown",
   "metadata": {},
   "source": [
    "#### Converting the type to the categorical values for one hot encoding, then viewing dataset. No columns, particularly image_path, appear to be null so this is good:"
   ]
  },
  {
   "cell_type": "code",
   "execution_count": 6,
   "metadata": {},
   "outputs": [
    {
     "data": {
      "text/html": [
       "<div>\n",
       "<style scoped>\n",
       "    .dataframe tbody tr th:only-of-type {\n",
       "        vertical-align: middle;\n",
       "    }\n",
       "\n",
       "    .dataframe tbody tr th {\n",
       "        vertical-align: top;\n",
       "    }\n",
       "\n",
       "    .dataframe thead th {\n",
       "        text-align: right;\n",
       "    }\n",
       "</style>\n",
       "<table border=\"1\" class=\"dataframe\">\n",
       "  <thead>\n",
       "    <tr style=\"text-align: right;\">\n",
       "      <th></th>\n",
       "      <th>lesion_id</th>\n",
       "      <th>image_id</th>\n",
       "      <th>dx</th>\n",
       "      <th>dx_type</th>\n",
       "      <th>age</th>\n",
       "      <th>sex</th>\n",
       "      <th>localization</th>\n",
       "      <th>image_path</th>\n",
       "      <th>type</th>\n",
       "      <th>type_id</th>\n",
       "    </tr>\n",
       "  </thead>\n",
       "  <tbody>\n",
       "    <tr>\n",
       "      <td>0</td>\n",
       "      <td>HAM_0000118</td>\n",
       "      <td>ISIC_0027419</td>\n",
       "      <td>bkl</td>\n",
       "      <td>histo</td>\n",
       "      <td>80.0</td>\n",
       "      <td>male</td>\n",
       "      <td>scalp</td>\n",
       "      <td>../input/HAM10000_images_part_1/ISIC_0027419.jpg</td>\n",
       "      <td>Benign keratosis-like lesions</td>\n",
       "      <td>2</td>\n",
       "    </tr>\n",
       "    <tr>\n",
       "      <td>1</td>\n",
       "      <td>HAM_0000118</td>\n",
       "      <td>ISIC_0025030</td>\n",
       "      <td>bkl</td>\n",
       "      <td>histo</td>\n",
       "      <td>80.0</td>\n",
       "      <td>male</td>\n",
       "      <td>scalp</td>\n",
       "      <td>../input/HAM10000_images_part_1/ISIC_0025030.jpg</td>\n",
       "      <td>Benign keratosis-like lesions</td>\n",
       "      <td>2</td>\n",
       "    </tr>\n",
       "    <tr>\n",
       "      <td>2</td>\n",
       "      <td>HAM_0002730</td>\n",
       "      <td>ISIC_0026769</td>\n",
       "      <td>bkl</td>\n",
       "      <td>histo</td>\n",
       "      <td>80.0</td>\n",
       "      <td>male</td>\n",
       "      <td>scalp</td>\n",
       "      <td>../input/HAM10000_images_part_1/ISIC_0026769.jpg</td>\n",
       "      <td>Benign keratosis-like lesions</td>\n",
       "      <td>2</td>\n",
       "    </tr>\n",
       "    <tr>\n",
       "      <td>3</td>\n",
       "      <td>HAM_0002730</td>\n",
       "      <td>ISIC_0025661</td>\n",
       "      <td>bkl</td>\n",
       "      <td>histo</td>\n",
       "      <td>80.0</td>\n",
       "      <td>male</td>\n",
       "      <td>scalp</td>\n",
       "      <td>../input/HAM10000_images_part_1/ISIC_0025661.jpg</td>\n",
       "      <td>Benign keratosis-like lesions</td>\n",
       "      <td>2</td>\n",
       "    </tr>\n",
       "    <tr>\n",
       "      <td>4</td>\n",
       "      <td>HAM_0001466</td>\n",
       "      <td>ISIC_0031633</td>\n",
       "      <td>bkl</td>\n",
       "      <td>histo</td>\n",
       "      <td>75.0</td>\n",
       "      <td>male</td>\n",
       "      <td>ear</td>\n",
       "      <td>../input/HAM10000_images_part_2/ISIC_0031633.jpg</td>\n",
       "      <td>Benign keratosis-like lesions</td>\n",
       "      <td>2</td>\n",
       "    </tr>\n",
       "    <tr>\n",
       "      <td>5</td>\n",
       "      <td>HAM_0001466</td>\n",
       "      <td>ISIC_0027850</td>\n",
       "      <td>bkl</td>\n",
       "      <td>histo</td>\n",
       "      <td>75.0</td>\n",
       "      <td>male</td>\n",
       "      <td>ear</td>\n",
       "      <td>../input/HAM10000_images_part_1/ISIC_0027850.jpg</td>\n",
       "      <td>Benign keratosis-like lesions</td>\n",
       "      <td>2</td>\n",
       "    </tr>\n",
       "    <tr>\n",
       "      <td>6</td>\n",
       "      <td>HAM_0002761</td>\n",
       "      <td>ISIC_0029176</td>\n",
       "      <td>bkl</td>\n",
       "      <td>histo</td>\n",
       "      <td>60.0</td>\n",
       "      <td>male</td>\n",
       "      <td>face</td>\n",
       "      <td>../input/HAM10000_images_part_1/ISIC_0029176.jpg</td>\n",
       "      <td>Benign keratosis-like lesions</td>\n",
       "      <td>2</td>\n",
       "    </tr>\n",
       "    <tr>\n",
       "      <td>7</td>\n",
       "      <td>HAM_0002761</td>\n",
       "      <td>ISIC_0029068</td>\n",
       "      <td>bkl</td>\n",
       "      <td>histo</td>\n",
       "      <td>60.0</td>\n",
       "      <td>male</td>\n",
       "      <td>face</td>\n",
       "      <td>../input/HAM10000_images_part_1/ISIC_0029068.jpg</td>\n",
       "      <td>Benign keratosis-like lesions</td>\n",
       "      <td>2</td>\n",
       "    </tr>\n",
       "    <tr>\n",
       "      <td>8</td>\n",
       "      <td>HAM_0005132</td>\n",
       "      <td>ISIC_0025837</td>\n",
       "      <td>bkl</td>\n",
       "      <td>histo</td>\n",
       "      <td>70.0</td>\n",
       "      <td>female</td>\n",
       "      <td>back</td>\n",
       "      <td>../input/HAM10000_images_part_1/ISIC_0025837.jpg</td>\n",
       "      <td>Benign keratosis-like lesions</td>\n",
       "      <td>2</td>\n",
       "    </tr>\n",
       "    <tr>\n",
       "      <td>9</td>\n",
       "      <td>HAM_0005132</td>\n",
       "      <td>ISIC_0025209</td>\n",
       "      <td>bkl</td>\n",
       "      <td>histo</td>\n",
       "      <td>70.0</td>\n",
       "      <td>female</td>\n",
       "      <td>back</td>\n",
       "      <td>../input/HAM10000_images_part_1/ISIC_0025209.jpg</td>\n",
       "      <td>Benign keratosis-like lesions</td>\n",
       "      <td>2</td>\n",
       "    </tr>\n",
       "  </tbody>\n",
       "</table>\n",
       "</div>"
      ],
      "text/plain": [
       "     lesion_id      image_id   dx dx_type   age     sex localization  \\\n",
       "0  HAM_0000118  ISIC_0027419  bkl   histo  80.0    male        scalp   \n",
       "1  HAM_0000118  ISIC_0025030  bkl   histo  80.0    male        scalp   \n",
       "2  HAM_0002730  ISIC_0026769  bkl   histo  80.0    male        scalp   \n",
       "3  HAM_0002730  ISIC_0025661  bkl   histo  80.0    male        scalp   \n",
       "4  HAM_0001466  ISIC_0031633  bkl   histo  75.0    male          ear   \n",
       "5  HAM_0001466  ISIC_0027850  bkl   histo  75.0    male          ear   \n",
       "6  HAM_0002761  ISIC_0029176  bkl   histo  60.0    male         face   \n",
       "7  HAM_0002761  ISIC_0029068  bkl   histo  60.0    male         face   \n",
       "8  HAM_0005132  ISIC_0025837  bkl   histo  70.0  female         back   \n",
       "9  HAM_0005132  ISIC_0025209  bkl   histo  70.0  female         back   \n",
       "\n",
       "                                         image_path  \\\n",
       "0  ../input/HAM10000_images_part_1/ISIC_0027419.jpg   \n",
       "1  ../input/HAM10000_images_part_1/ISIC_0025030.jpg   \n",
       "2  ../input/HAM10000_images_part_1/ISIC_0026769.jpg   \n",
       "3  ../input/HAM10000_images_part_1/ISIC_0025661.jpg   \n",
       "4  ../input/HAM10000_images_part_2/ISIC_0031633.jpg   \n",
       "5  ../input/HAM10000_images_part_1/ISIC_0027850.jpg   \n",
       "6  ../input/HAM10000_images_part_1/ISIC_0029176.jpg   \n",
       "7  ../input/HAM10000_images_part_1/ISIC_0029068.jpg   \n",
       "8  ../input/HAM10000_images_part_1/ISIC_0025837.jpg   \n",
       "9  ../input/HAM10000_images_part_1/ISIC_0025209.jpg   \n",
       "\n",
       "                             type  type_id  \n",
       "0  Benign keratosis-like lesions         2  \n",
       "1  Benign keratosis-like lesions         2  \n",
       "2  Benign keratosis-like lesions         2  \n",
       "3  Benign keratosis-like lesions         2  \n",
       "4  Benign keratosis-like lesions         2  \n",
       "5  Benign keratosis-like lesions         2  \n",
       "6  Benign keratosis-like lesions         2  \n",
       "7  Benign keratosis-like lesions         2  \n",
       "8  Benign keratosis-like lesions         2  \n",
       "9  Benign keratosis-like lesions         2  "
      ]
     },
     "execution_count": 6,
     "metadata": {},
     "output_type": "execute_result"
    }
   ],
   "source": [
    "skind['type_id'] = pd.Categorical(skind['type']).codes\n",
    "skind.head(10)"
   ]
  },
  {
   "cell_type": "markdown",
   "metadata": {},
   "source": [
    "#### Need to remove null values before building CNN model (will otherwise affect performance of model). Checking where they are:"
   ]
  },
  {
   "cell_type": "code",
   "execution_count": 7,
   "metadata": {},
   "outputs": [
    {
     "name": "stdout",
     "output_type": "stream",
     "text": [
      "lesion_id        0\n",
      "image_id         0\n",
      "dx               0\n",
      "dx_type          0\n",
      "age             57\n",
      "sex              0\n",
      "localization     0\n",
      "image_path       0\n",
      "type             0\n",
      "type_id          0\n",
      "dtype: int64\n"
     ]
    }
   ],
   "source": [
    "print(skind.isna().sum())"
   ]
  },
  {
   "cell_type": "markdown",
   "metadata": {},
   "source": [
    "#### It's a common trick to fill the null values with the average of the columns (got help from https://machinelearningmastery.com/handle-missing-data-python/) so let's do that for age:"
   ]
  },
  {
   "cell_type": "code",
   "execution_count": 8,
   "metadata": {},
   "outputs": [],
   "source": [
    "skind['age'] = skind['age'].fillna(skind['age'].mean())"
   ]
  },
  {
   "cell_type": "markdown",
   "metadata": {},
   "source": [
    "## Data Analysis: Exploring the data first\n",
    "#### (got help with creating different plots from https://www.kaggle.com/pmarcelino/comprehensive-data-exploration-with-python)"
   ]
  },
  {
   "cell_type": "markdown",
   "metadata": {},
   "source": [
    "#### I'm interested in learning more about the dataset and seeing the distribution of skin diagnoses.The majority of the images belong to the class of melanocytic nevi. This shows bias, but is also realistic becuase melanocytic nevi is apparently the most common skin lesion (they are moles or birth marks)"
   ]
  },
  {
   "cell_type": "code",
   "execution_count": 9,
   "metadata": {},
   "outputs": [
    {
     "data": {
      "image/png": "[encoded data removed]",
      "text/plain": [
       "<Figure size 432x288 with 1 Axes>"
      ]
     },
     "metadata": {
      "needs_background": "light"
     },
     "output_type": "display_data"
    }
   ],
   "source": [
    "fig = sns.countplot(x = skind['type'],order = skind['type'].value_counts().index)\n",
    "plt.xticks(fig.get_xticks(),rotation = 90)\n",
    "plt.show()"
   ]
  },
  {
   "cell_type": "markdown",
   "metadata": {},
   "source": [
    "#### Age distribution (middle-aged people seem to be the most affected):"
   ]
  },
  {
   "cell_type": "code",
   "execution_count": 10,
   "metadata": {},
   "outputs": [
    {
     "data": {
      "image/png": "[encoded data removed]",
      "text/plain": [
       "<Figure size 432x288 with 1 Axes>"
      ]
     },
     "metadata": {
      "needs_background": "light"
     },
     "output_type": "display_data"
    }
   ],
   "source": [
    "sns.distplot(skind['age'], color = 'red')\n",
    "plt.show()"
   ]
  },
  {
   "cell_type": "markdown",
   "metadata": {},
   "source": [
    "#### What types of skin lesions affect people of different ages? It appears that Actinic keratoses, Basal cell carcinoma, and Dermatofibroma affect the younger generation the least:"
   ]
  },
  {
   "cell_type": "code",
   "execution_count": 11,
   "metadata": {},
   "outputs": [
    {
     "data": {
      "image/png": "[encoded data removed]",
      "text/plain": [
       "<Figure size 432x288 with 1 Axes>"
      ]
     },
     "metadata": {
      "needs_background": "light"
     },
     "output_type": "display_data"
    }
   ],
   "source": [
    "sns.scatterplot(skind['age'], skind['type'], color = 'red')\n",
    "plt.show()"
   ]
  },
  {
   "cell_type": "markdown",
   "metadata": {},
   "source": [
    "#### Gender distribution (males seem to have more skin diagnoses than women):"
   ]
  },
  {
   "cell_type": "code",
   "execution_count": 12,
   "metadata": {},
   "outputs": [
    {
     "data": {
      "image/png": "[encoded data removed]",
      "text/plain": [
       "<Figure size 432x288 with 1 Axes>"
      ]
     },
     "metadata": {
      "needs_background": "light"
     },
     "output_type": "display_data"
    }
   ],
   "source": [
    "fig = sns.countplot(x = skind['sex'], order = skind['sex'].value_counts().index)\n",
    "plt.show()"
   ]
  },
  {
   "cell_type": "markdown",
   "metadata": {},
   "source": [
    "#### Relating age and gender to diagnosis. From these box plots, it doesn't appear that there is a strong link between age, gender, and skin diagnoses. It varies a lot depending on the particular diagnosis:"
   ]
  },
  {
   "cell_type": "code",
   "execution_count": 13,
   "metadata": {},
   "outputs": [
    {
     "data": {
      "image/png": "[encoded data removed]",
      "text/plain": [
       "<Figure size 1080x720 with 1 Axes>"
      ]
     },
     "metadata": {
      "needs_background": "light"
     },
     "output_type": "display_data"
    }
   ],
   "source": [
    "f, ax1 = plt.subplots(1,1, figsize=(15,10))\n",
    "sns.boxplot(x=skind['type'], y=skind['age'], hue=skind['sex'], ax=ax1)\n",
    "plt.show()"
   ]
  },
  {
   "cell_type": "markdown",
   "metadata": {},
   "source": [
    "#### Image resizing. We are resizing the images from 600x450 to 32x32 pixels:"
   ]
  },
  {
   "cell_type": "code",
   "execution_count": 14,
   "metadata": {},
   "outputs": [
    {
     "name": "stdout",
     "output_type": "stream",
     "text": [
      "[[[189 149 186]\n",
      "  [192 154 193]\n",
      "  [199 154 185]\n",
      "  [202 162 189]\n",
      "  [207 168 195]\n",
      "  [208 171 205]\n",
      "  [210 164 200]\n",
      "  [211 168 196]\n",
      "  [215 171 204]\n",
      "  [216 180 206]\n",
      "  [219 187 211]\n",
      "  [215 175 212]\n",
      "  [212 166 195]\n",
      "  [219 172 216]\n",
      "  [214 158 195]\n",
      "  [211 163 203]\n",
      "  [217 173 209]\n",
      "  [219 170 202]\n",
      "  [219 174 205]\n",
      "  [211 161 188]\n",
      "  [206 159 177]\n",
      "  [204 155 174]\n",
      "  [205 159 188]\n",
      "  [208 161 197]\n",
      "  [193 141 153]\n",
      "  [187 130 149]\n",
      "  [191 138 156]\n",
      "  [192 148 175]\n",
      "  [184 133 142]\n",
      "  [197 149 165]\n",
      "  [197 154 161]\n",
      "  [193 151 161]]\n",
      "\n",
      " [[199 162 203]\n",
      "  [198 162 198]\n",
      "  [202 161 193]\n",
      "  [205 164 194]\n",
      "  [205 160 189]\n",
      "  [210 171 215]\n",
      "  [215 167 205]\n",
      "  [210 150 176]\n",
      "  [207 175 214]\n",
      "  [213 179 195]\n",
      "  [217 181 207]\n",
      "  [218 183 207]\n",
      "  [216 177 206]\n",
      "  [220 170 207]\n",
      "  [219 166 192]\n",
      "  [212 156 185]\n",
      "  [213 164 186]\n",
      "  [216 171 192]\n",
      "  [219 164 187]\n",
      "  [215 171 198]\n",
      "  [206 156 181]\n",
      "  [208 161 197]\n",
      "  [208 160 198]\n",
      "  [211 164 196]\n",
      "  [197 143 166]\n",
      "  [191 136 165]\n",
      "  [203 153 182]\n",
      "  [193 143 168]\n",
      "  [184 132 144]\n",
      "  [201 156 163]\n",
      "  [193 148 153]\n",
      "  [194 152 164]]\n",
      "\n",
      " [[196 160 196]\n",
      "  [198 154 189]\n",
      "  [204 163 195]\n",
      "  [194 159 189]\n",
      "  [211 177 204]\n",
      "  [208 174 211]\n",
      "  [213 162 203]\n",
      "  [209 157 193]\n",
      "  [214 169 198]\n",
      "  [219 187 210]\n",
      "  [217 176 208]\n",
      "  [219 181 202]\n",
      "  [217 183 207]\n",
      "  [213 166 182]\n",
      "  [219 172 190]\n",
      "  [210 161 183]\n",
      "  [214 153 168]\n",
      "  [210 152 166]\n",
      "  [214 160 173]\n",
      "  [209 146 177]\n",
      "  [216 171 204]\n",
      "  [216 166 204]\n",
      "  [209 158 189]\n",
      "  [213 169 194]\n",
      "  [203 161 181]\n",
      "  [201 145 180]\n",
      "  [202 155 189]\n",
      "  [194 144 153]\n",
      "  [196 146 155]\n",
      "  [198 161 169]\n",
      "  [192 149 158]\n",
      "  [190 156 173]]\n",
      "\n",
      " [[192 147 180]\n",
      "  [191 141 152]\n",
      "  [204 157 193]\n",
      "  [200 156 191]\n",
      "  [213 177 205]\n",
      "  [211 166 197]\n",
      "  [214 177 210]\n",
      "  [214 173 207]\n",
      "  [221 180 220]\n",
      "  [215 169 197]\n",
      "  [220 189 207]\n",
      "  [214 166 178]\n",
      "  [218 157 162]\n",
      "  [210 155 186]\n",
      "  [216 167 189]\n",
      "  [214 154 166]\n",
      "  [210 146 170]\n",
      "  [216 159 176]\n",
      "  [212 162 173]\n",
      "  [218 178 205]\n",
      "  [215 167 189]\n",
      "  [220 193 228]\n",
      "  [213 168 197]\n",
      "  [208 155 175]\n",
      "  [208 162 190]\n",
      "  [204 153 184]\n",
      "  [209 164 197]\n",
      "  [200 157 166]\n",
      "  [201 165 177]\n",
      "  [200 158 172]\n",
      "  [197 158 177]\n",
      "  [191 149 151]]]\n"
     ]
    }
   ],
   "source": [
    "print(np.asarray(Image.open(skind['image_path'][0]).resize((32,32)))[:4])"
   ]
  },
  {
   "cell_type": "code",
   "execution_count": 15,
   "metadata": {},
   "outputs": [],
   "source": [
    "skind['image'] = skind['image_path'].map(lambda x: np.asarray(Image.open(x).resize((32,32))))"
   ]
  },
  {
   "cell_type": "markdown",
   "metadata": {},
   "source": [
    "#### Showing some random images after resizing (got help witht this function from https://medium.com/towards-artificial-intelligence/image-classification-using-deep-learning-pytorch-a-case-study-with-flower-image-data-80a18554df63):"
   ]
  },
  {
   "cell_type": "code",
   "execution_count": 16,
   "metadata": {},
   "outputs": [
    {
     "data": {
      "image/png": "[encoded data removed]",
      "text/plain": [
       "<Figure size 1440x720 with 6 Axes>"
      ]
     },
     "metadata": {
      "needs_background": "light"
     },
     "output_type": "display_data"
    }
   ],
   "source": [
    "plt.figure(figsize= (20,10))\n",
    "for i,img in enumerate(np.random.randint(0, 5000, 6)):\n",
    "    plt.subplot(1,6,i+1)\n",
    "    plt.imshow(skind['image'][img])\n",
    "plt.show()"
   ]
  },
  {
   "cell_type": "markdown",
   "metadata": {},
   "source": [
    "#### Categorizing:"
   ]
  },
  {
   "cell_type": "code",
   "execution_count": 17,
   "metadata": {},
   "outputs": [],
   "source": [
    "x_ = skind.drop(columns=['type_id'],axis=1)\n",
    "y = skind['type_id']"
   ]
  },
  {
   "cell_type": "markdown",
   "metadata": {},
   "source": [
    "#### Time to split test and train datasets (80% for train set, 20% for test dataset):¶"
   ]
  },
  {
   "cell_type": "code",
   "execution_count": 18,
   "metadata": {},
   "outputs": [],
   "source": [
    "X_train, X_test, y_train, y_test = train_test_split(x_, y, test_size = 0.20, random_state = 42)"
   ]
  },
  {
   "cell_type": "code",
   "execution_count": 19,
   "metadata": {},
   "outputs": [],
   "source": [
    "X_train = np.asarray(X_train['image'].tolist())\n",
    "X_test = np.asarray(X_test['image'].tolist())\n",
    "\n",
    "X_train = (X_train - X_train.mean())/X_train.std()\n",
    "X_test = (X_test - X_test.mean())/X_test.std()"
   ]
  },
  {
   "cell_type": "markdown",
   "metadata": {},
   "source": [
    "#### Converting labels:"
   ]
  },
  {
   "cell_type": "code",
   "execution_count": 20,
   "metadata": {},
   "outputs": [],
   "source": [
    "y_train = to_categorical(y_train, num_classes= 7)\n",
    "y_test = to_categorical(y_test, num_classes= 7)"
   ]
  },
  {
   "cell_type": "markdown",
   "metadata": {},
   "source": [
    "#### Getting the shape of the X_train , y_train , X_test and y_test data:"
   ]
  },
  {
   "cell_type": "code",
   "execution_count": 21,
   "metadata": {},
   "outputs": [
    {
     "name": "stdout",
     "output_type": "stream",
     "text": [
      "x_train shape: (8012, 32, 32, 3)\n",
      "y_train shape: (8012, 7)\n",
      "x_test shape: (2003, 32, 32, 3)\n",
      "y_test shape: (2003, 7)\n"
     ]
    }
   ],
   "source": [
    "print('x_train shape:', X_train.shape)\n",
    "print('y_train shape:', y_train.shape)\n",
    "print('x_test shape:', X_test.shape)\n",
    "print('y_test shape:', y_test.shape)"
   ]
  },
  {
   "cell_type": "markdown",
   "metadata": {},
   "source": [
    "#### Time to build the model. I'm going to use a basic architecture that we've used in assignment 5 to see how it works:"
   ]
  },
  {
   "cell_type": "markdown",
   "metadata": {},
   "source": [
    "#### adding the first convolution layer to extract the features first\n",
    "#### 3x3 relu\n",
    "#### input shape 32,32,3"
   ]
  },
  {
   "cell_type": "code",
   "execution_count": 22,
   "metadata": {},
   "outputs": [
    {
     "name": "stdout",
     "output_type": "stream",
     "text": [
      "WARNING:tensorflow:From /Library/Frameworks/Python.framework/Versions/3.7/lib/python3.7/site-packages/keras/backend/tensorflow_backend.py:66: The name tf.get_default_graph is deprecated. Please use tf.compat.v1.get_default_graph instead.\n",
      "\n",
      "WARNING:tensorflow:From /Library/Frameworks/Python.framework/Versions/3.7/lib/python3.7/site-packages/keras/backend/tensorflow_backend.py:541: The name tf.placeholder is deprecated. Please use tf.compat.v1.placeholder instead.\n",
      "\n",
      "WARNING:tensorflow:From /Library/Frameworks/Python.framework/Versions/3.7/lib/python3.7/site-packages/keras/backend/tensorflow_backend.py:4432: The name tf.random_uniform is deprecated. Please use tf.random.uniform instead.\n",
      "\n"
     ]
    }
   ],
   "source": [
    "model = Sequential()\n",
    "model.add(Conv2D(32, (3,3), activation='relu',input_shape=(32,32,3)))"
   ]
  },
  {
   "cell_type": "markdown",
   "metadata": {},
   "source": [
    "#### Adding dropout of .2 and creating another layer without the input_shape:"
   ]
  },
  {
   "cell_type": "code",
   "execution_count": 23,
   "metadata": {},
   "outputs": [
    {
     "name": "stdout",
     "output_type": "stream",
     "text": [
      "WARNING:tensorflow:From /Library/Frameworks/Python.framework/Versions/3.7/lib/python3.7/site-packages/keras/backend/tensorflow_backend.py:148: The name tf.placeholder_with_default is deprecated. Please use tf.compat.v1.placeholder_with_default instead.\n",
      "\n",
      "WARNING:tensorflow:From /Library/Frameworks/Python.framework/Versions/3.7/lib/python3.7/site-packages/keras/backend/tensorflow_backend.py:3733: calling dropout (from tensorflow.python.ops.nn_ops) with keep_prob is deprecated and will be removed in a future version.\n",
      "Instructions for updating:\n",
      "Please use `rate` instead of `keep_prob`. Rate should be set to `rate = 1 - keep_prob`.\n"
     ]
    }
   ],
   "source": [
    "model.add(Dropout(.2))\n",
    "model.add(Conv2D(32, (3,3), activation='relu'))"
   ]
  },
  {
   "cell_type": "markdown",
   "metadata": {},
   "source": [
    "#### Adding pooling layer with a 2x2 pixel filter to get the max element from the feature maps. Reduces the dimension of the feature maps by half"
   ]
  },
  {
   "cell_type": "code",
   "execution_count": 24,
   "metadata": {},
   "outputs": [
    {
     "name": "stdout",
     "output_type": "stream",
     "text": [
      "WARNING:tensorflow:From /Library/Frameworks/Python.framework/Versions/3.7/lib/python3.7/site-packages/keras/backend/tensorflow_backend.py:4267: The name tf.nn.max_pool is deprecated. Please use tf.nn.max_pool2d instead.\n",
      "\n"
     ]
    }
   ],
   "source": [
    "model.add(MaxPool2D(pool_size=(2, 2), padding='SAME'))"
   ]
  },
  {
   "cell_type": "markdown",
   "metadata": {},
   "source": [
    "#### Continuing with adding more neurons and dropouts:"
   ]
  },
  {
   "cell_type": "code",
   "execution_count": 25,
   "metadata": {},
   "outputs": [],
   "source": [
    "model.add(Conv2D(64, (3,3), activation='relu'))\n",
    "model.add(Dropout(.2))\n",
    "#64 neurons\n",
    "model.add(Conv2D(64, (3,3), activation='relu'))\n",
    "model.add(MaxPool2D(pool_size=(2, 2), padding='SAME'))\n",
    "#now 128 neurons\n",
    "model.add(Conv2D(128, (3,3), activation='relu'))\n",
    "model.add(Dropout(.2))\n",
    "#128 neurons\n",
    "model.add(Conv2D(128, (3,3), activation='relu'))\n",
    "model.add(MaxPool2D(pool_size=(2, 2), padding='SAME'))"
   ]
  },
  {
   "cell_type": "markdown",
   "metadata": {},
   "source": [
    "#### Adding flattening layer to reduce the image to a linear array:"
   ]
  },
  {
   "cell_type": "code",
   "execution_count": 26,
   "metadata": {},
   "outputs": [],
   "source": [
    "model.add(Flatten())\n",
    "model.add(Dropout(.2))\n",
    "#1024 neurons \n",
    "model.add(Dense(1024, activation='relu'))\n",
    "model.add(Dropout(.2))\n",
    "#512 neurons\n",
    "model.add(Dense(512, activation='relu'))\n",
    "model.add(Dropout(.2))"
   ]
  },
  {
   "cell_type": "markdown",
   "metadata": {},
   "source": [
    "#### Creating the last layer of this neural network with 7 neurons (for 7 categories) using the softmax function:"
   ]
  },
  {
   "cell_type": "code",
   "execution_count": 27,
   "metadata": {},
   "outputs": [],
   "source": [
    "model.add(Dense(7, activation='softmax'))"
   ]
  },
  {
   "cell_type": "code",
   "execution_count": 28,
   "metadata": {},
   "outputs": [
    {
     "name": "stdout",
     "output_type": "stream",
     "text": [
      "Model: \"sequential_1\"\n",
      "_________________________________________________________________\n",
      "Layer (type)                 Output Shape              Param #   \n",
      "=================================================================\n",
      "conv2d_1 (Conv2D)            (None, 30, 30, 32)        896       \n",
      "_________________________________________________________________\n",
      "dropout_1 (Dropout)          (None, 30, 30, 32)        0         \n",
      "_________________________________________________________________\n",
      "conv2d_2 (Conv2D)            (None, 28, 28, 32)        9248      \n",
      "_________________________________________________________________\n",
      "max_pooling2d_1 (MaxPooling2 (None, 14, 14, 32)        0         \n",
      "_________________________________________________________________\n",
      "conv2d_3 (Conv2D)            (None, 12, 12, 64)        18496     \n",
      "_________________________________________________________________\n",
      "dropout_2 (Dropout)          (None, 12, 12, 64)        0         \n",
      "_________________________________________________________________\n",
      "conv2d_4 (Conv2D)            (None, 10, 10, 64)        36928     \n",
      "_________________________________________________________________\n",
      "max_pooling2d_2 (MaxPooling2 (None, 5, 5, 64)          0         \n",
      "_________________________________________________________________\n",
      "conv2d_5 (Conv2D)            (None, 3, 3, 128)         73856     \n",
      "_________________________________________________________________\n",
      "dropout_3 (Dropout)          (None, 3, 3, 128)         0         \n",
      "_________________________________________________________________\n",
      "conv2d_6 (Conv2D)            (None, 1, 1, 128)         147584    \n",
      "_________________________________________________________________\n",
      "max_pooling2d_3 (MaxPooling2 (None, 1, 1, 128)         0         \n",
      "_________________________________________________________________\n",
      "flatten_1 (Flatten)          (None, 128)               0         \n",
      "_________________________________________________________________\n",
      "dropout_4 (Dropout)          (None, 128)               0         \n",
      "_________________________________________________________________\n",
      "dense_1 (Dense)              (None, 1024)              132096    \n",
      "_________________________________________________________________\n",
      "dropout_5 (Dropout)          (None, 1024)              0         \n",
      "_________________________________________________________________\n",
      "dense_2 (Dense)              (None, 512)               524800    \n",
      "_________________________________________________________________\n",
      "dropout_6 (Dropout)          (None, 512)               0         \n",
      "_________________________________________________________________\n",
      "dense_3 (Dense)              (None, 7)                 3591      \n",
      "=================================================================\n",
      "Total params: 947,495\n",
      "Trainable params: 947,495\n",
      "Non-trainable params: 0\n",
      "_________________________________________________________________\n"
     ]
    }
   ],
   "source": [
    "model.summary()"
   ]
  },
  {
   "cell_type": "code",
   "execution_count": 29,
   "metadata": {},
   "outputs": [
    {
     "name": "stdout",
     "output_type": "stream",
     "text": [
      "WARNING:tensorflow:From /Library/Frameworks/Python.framework/Versions/3.7/lib/python3.7/site-packages/keras/optimizers.py:793: The name tf.train.Optimizer is deprecated. Please use tf.compat.v1.train.Optimizer instead.\n",
      "\n",
      "WARNING:tensorflow:From /Library/Frameworks/Python.framework/Versions/3.7/lib/python3.7/site-packages/keras/backend/tensorflow_backend.py:3576: The name tf.log is deprecated. Please use tf.math.log instead.\n",
      "\n"
     ]
    }
   ],
   "source": [
    "model.compile(loss='categorical_crossentropy', optimizer='adam',metrics=['accuracy'])"
   ]
  },
  {
   "cell_type": "code",
   "execution_count": 30,
   "metadata": {},
   "outputs": [
    {
     "name": "stdout",
     "output_type": "stream",
     "text": [
      "WARNING:tensorflow:From /Library/Frameworks/Python.framework/Versions/3.7/lib/python3.7/site-packages/tensorflow/python/ops/math_grad.py:1250: add_dispatch_support.<locals>.wrapper (from tensorflow.python.ops.array_ops) is deprecated and will be removed in a future version.\n",
      "Instructions for updating:\n",
      "Use tf.where in 2.0, which has the same broadcast rule as np.where\n",
      "Train on 5608 samples, validate on 2404 samples\n",
      "Epoch 1/50\n",
      "5608/5608 [==============================] - 21s 4ms/step - loss: 1.1346 - acc: 0.6389 - val_loss: 1.1276 - val_acc: 0.6755\n",
      "Epoch 2/50\n",
      "5608/5608 [==============================] - 19s 3ms/step - loss: 0.9595 - acc: 0.6674 - val_loss: 0.9126 - val_acc: 0.6768\n",
      "Epoch 3/50\n",
      "5608/5608 [==============================] - 19s 3ms/step - loss: 0.8922 - acc: 0.6694 - val_loss: 0.8828 - val_acc: 0.6905\n",
      "Epoch 4/50\n",
      "5608/5608 [==============================] - 18s 3ms/step - loss: 0.8920 - acc: 0.6740 - val_loss: 0.8574 - val_acc: 0.6930\n",
      "Epoch 5/50\n",
      "5608/5608 [==============================] - 18s 3ms/step - loss: 0.8301 - acc: 0.6903 - val_loss: 0.8370 - val_acc: 0.7080\n",
      "Epoch 6/50\n",
      "5608/5608 [==============================] - 19s 3ms/step - loss: 0.8150 - acc: 0.6953 - val_loss: 0.9022 - val_acc: 0.6843\n",
      "Epoch 7/50\n",
      "5608/5608 [==============================] - 19s 3ms/step - loss: 0.7911 - acc: 0.7129 - val_loss: 0.9942 - val_acc: 0.6319\n",
      "Epoch 8/50\n",
      "5608/5608 [==============================] - 19s 3ms/step - loss: 0.7796 - acc: 0.7138 - val_loss: 0.8184 - val_acc: 0.7067\n",
      "Epoch 9/50\n",
      "5608/5608 [==============================] - 19s 3ms/step - loss: 0.7825 - acc: 0.7149 - val_loss: 0.9346 - val_acc: 0.6897\n",
      "Epoch 10/50\n",
      "5608/5608 [==============================] - 18s 3ms/step - loss: 0.7499 - acc: 0.7231 - val_loss: 0.9225 - val_acc: 0.6672\n",
      "Epoch 11/50\n",
      "5608/5608 [==============================] - 19s 3ms/step - loss: 0.7145 - acc: 0.7354 - val_loss: 0.8041 - val_acc: 0.6955\n",
      "Epoch 12/50\n",
      "5608/5608 [==============================] - 18s 3ms/step - loss: 0.6997 - acc: 0.7411 - val_loss: 0.8260 - val_acc: 0.7146\n",
      "Epoch 13/50\n",
      "5608/5608 [==============================] - 20s 3ms/step - loss: 0.6711 - acc: 0.7488 - val_loss: 0.8088 - val_acc: 0.7134\n",
      "Epoch 14/50\n",
      "5608/5608 [==============================] - 21s 4ms/step - loss: 0.6698 - acc: 0.7514 - val_loss: 0.7629 - val_acc: 0.7242\n",
      "Epoch 15/50\n",
      "5608/5608 [==============================] - 18s 3ms/step - loss: 0.6657 - acc: 0.7537 - val_loss: 0.7917 - val_acc: 0.7047\n",
      "Epoch 16/50\n",
      "5608/5608 [==============================] - 19s 3ms/step - loss: 0.6524 - acc: 0.7584 - val_loss: 0.7241 - val_acc: 0.7375\n",
      "Epoch 17/50\n",
      "5608/5608 [==============================] - 19s 3ms/step - loss: 0.6202 - acc: 0.7669 - val_loss: 0.7542 - val_acc: 0.7284\n",
      "Epoch 18/50\n",
      "5608/5608 [==============================] - 19s 3ms/step - loss: 0.6220 - acc: 0.7691 - val_loss: 0.7203 - val_acc: 0.7400\n",
      "Epoch 19/50\n",
      "5608/5608 [==============================] - 19s 3ms/step - loss: 0.5956 - acc: 0.7800 - val_loss: 0.7331 - val_acc: 0.7363\n",
      "Epoch 20/50\n",
      "5608/5608 [==============================] - 18s 3ms/step - loss: 0.5652 - acc: 0.7866 - val_loss: 0.8164 - val_acc: 0.7196\n",
      "Epoch 21/50\n",
      "5608/5608 [==============================] - 19s 3ms/step - loss: 0.5630 - acc: 0.7905 - val_loss: 0.7703 - val_acc: 0.7146\n",
      "Epoch 22/50\n",
      "5608/5608 [==============================] - 19s 3ms/step - loss: 0.5318 - acc: 0.7994 - val_loss: 0.7416 - val_acc: 0.7288\n",
      "Epoch 23/50\n",
      "5608/5608 [==============================] - 19s 3ms/step - loss: 0.5092 - acc: 0.8081 - val_loss: 0.7355 - val_acc: 0.7471\n",
      "Epoch 24/50\n",
      "5608/5608 [==============================] - 19s 3ms/step - loss: 0.4877 - acc: 0.8162 - val_loss: 0.7731 - val_acc: 0.7225\n",
      "Epoch 25/50\n",
      "5608/5608 [==============================] - 19s 3ms/step - loss: 0.4703 - acc: 0.8269 - val_loss: 0.8454 - val_acc: 0.7042\n",
      "Epoch 26/50\n",
      "5608/5608 [==============================] - 19s 3ms/step - loss: 0.4450 - acc: 0.8286 - val_loss: 0.7618 - val_acc: 0.7392\n",
      "Epoch 27/50\n",
      "5608/5608 [==============================] - 18s 3ms/step - loss: 0.4542 - acc: 0.8260 - val_loss: 0.7675 - val_acc: 0.7442\n",
      "Epoch 28/50\n",
      "5608/5608 [==============================] - 27s 5ms/step - loss: 0.4294 - acc: 0.8358 - val_loss: 0.8314 - val_acc: 0.7084\n",
      "Epoch 29/50\n",
      "5608/5608 [==============================] - 24s 4ms/step - loss: 0.3934 - acc: 0.8532 - val_loss: 0.8101 - val_acc: 0.7346\n",
      "Epoch 30/50\n",
      "5608/5608 [==============================] - 22s 4ms/step - loss: 0.3776 - acc: 0.8572 - val_loss: 0.9415 - val_acc: 0.7005\n",
      "Epoch 31/50\n",
      "5608/5608 [==============================] - 23s 4ms/step - loss: 0.3665 - acc: 0.8593 - val_loss: 0.9307 - val_acc: 0.7001\n",
      "Epoch 32/50\n",
      "5608/5608 [==============================] - 23s 4ms/step - loss: 0.3549 - acc: 0.8659 - val_loss: 0.8295 - val_acc: 0.7483\n",
      "Epoch 33/50\n",
      "5608/5608 [==============================] - 21s 4ms/step - loss: 0.3220 - acc: 0.8780 - val_loss: 0.8420 - val_acc: 0.7429\n",
      "Epoch 34/50\n",
      "5608/5608 [==============================] - 18s 3ms/step - loss: 0.3256 - acc: 0.8759 - val_loss: 0.8591 - val_acc: 0.7329\n",
      "Epoch 35/50\n",
      "5608/5608 [==============================] - 18s 3ms/step - loss: 0.2899 - acc: 0.8934 - val_loss: 0.9528 - val_acc: 0.7242\n",
      "Epoch 36/50\n",
      "5608/5608 [==============================] - 18s 3ms/step - loss: 0.2787 - acc: 0.8984 - val_loss: 1.0542 - val_acc: 0.6851\n",
      "Epoch 37/50\n",
      "5608/5608 [==============================] - 18s 3ms/step - loss: 0.2830 - acc: 0.8916 - val_loss: 1.0316 - val_acc: 0.7009\n",
      "Epoch 38/50\n",
      "5608/5608 [==============================] - 18s 3ms/step - loss: 0.3227 - acc: 0.8843 - val_loss: 0.9019 - val_acc: 0.7234\n",
      "Epoch 39/50\n",
      "5608/5608 [==============================] - 18s 3ms/step - loss: 0.2773 - acc: 0.8985 - val_loss: 0.9293 - val_acc: 0.7325\n",
      "Epoch 40/50\n",
      "5608/5608 [==============================] - 18s 3ms/step - loss: 0.2372 - acc: 0.9107 - val_loss: 0.9388 - val_acc: 0.7296\n",
      "Epoch 41/50\n",
      "5608/5608 [==============================] - 18s 3ms/step - loss: 0.2235 - acc: 0.9130 - val_loss: 1.1051 - val_acc: 0.6938\n",
      "Epoch 42/50\n",
      "5608/5608 [==============================] - 21s 4ms/step - loss: 0.2529 - acc: 0.9066 - val_loss: 0.9946 - val_acc: 0.7130\n",
      "Epoch 43/50\n",
      "5608/5608 [==============================] - 18s 3ms/step - loss: 0.2070 - acc: 0.9221 - val_loss: 1.0147 - val_acc: 0.7288\n",
      "Epoch 44/50\n",
      "5608/5608 [==============================] - 18s 3ms/step - loss: 0.1814 - acc: 0.9306 - val_loss: 1.0296 - val_acc: 0.7388\n",
      "Epoch 45/50\n",
      "5608/5608 [==============================] - 19s 3ms/step - loss: 0.1876 - acc: 0.9310 - val_loss: 1.0878 - val_acc: 0.7088\n",
      "Epoch 46/50\n",
      "5608/5608 [==============================] - 19s 3ms/step - loss: 0.1922 - acc: 0.9301 - val_loss: 1.0662 - val_acc: 0.7255\n",
      "Epoch 47/50\n",
      "5608/5608 [==============================] - 20s 4ms/step - loss: 0.1700 - acc: 0.9372 - val_loss: 1.1482 - val_acc: 0.7488\n",
      "Epoch 48/50\n",
      "5608/5608 [==============================] - 19s 3ms/step - loss: 0.1907 - acc: 0.9317 - val_loss: 1.0848 - val_acc: 0.7171\n",
      "Epoch 49/50\n",
      "5608/5608 [==============================] - 19s 3ms/step - loss: 0.1788 - acc: 0.9354 - val_loss: 1.0754 - val_acc: 0.7146\n",
      "Epoch 50/50\n",
      "5608/5608 [==============================] - 20s 4ms/step - loss: 0.1791 - acc: 0.9367 - val_loss: 1.0183 - val_acc: 0.7392\n"
     ]
    }
   ],
   "source": [
    "hist = model.fit(X_train, y_train, batch_size=256, epochs=50, validation_split=0.3)"
   ]
  },
  {
   "cell_type": "markdown",
   "metadata": {},
   "source": [
    "#### The accuracy of the model resulted to be about 70%"
   ]
  },
  {
   "cell_type": "code",
   "execution_count": 31,
   "metadata": {},
   "outputs": [
    {
     "name": "stdout",
     "output_type": "stream",
     "text": [
      "2003/2003 [==============================] - 2s 903us/step\n"
     ]
    },
    {
     "data": {
      "text/plain": [
       "[1.1115208771368057, 0.7289066399506671]"
      ]
     },
     "execution_count": 31,
     "metadata": {},
     "output_type": "execute_result"
    }
   ],
   "source": [
    "model.evaluate(X_test, y_test)"
   ]
  },
  {
   "cell_type": "code",
   "execution_count": 33,
   "metadata": {},
   "outputs": [
    {
     "data": {
      "image/png": "[encoded data removed]",
      "text/plain": [
       "<Figure size 432x288 with 1 Axes>"
      ]
     },
     "metadata": {
      "needs_background": "light"
     },
     "output_type": "display_data"
    }
   ],
   "source": [
    "plt.plot(hist.history['acc'])\n",
    "plt.plot(hist.history['val_acc'])\n",
    "plt.title('Model accuracy')\n",
    "plt.ylabel('Accuracy')\n",
    "plt.xlabel('Epoch')\n",
    "plt.legend(['Train', 'Val'], loc='upper left')\n",
    "plt.show()"
   ]
  },
  {
   "cell_type": "code",
   "execution_count": 34,
   "metadata": {},
   "outputs": [
    {
     "data": {
      "image/png": "[encoded data removed]",
      "text/plain": [
       "<Figure size 432x288 with 1 Axes>"
      ]
     },
     "metadata": {
      "needs_background": "light"
     },
     "output_type": "display_data"
    }
   ],
   "source": [
    "plt.plot(hist.history['loss'])\n",
    "plt.plot(hist.history['val_loss'])\n",
    "plt.title('Model loss')\n",
    "plt.ylabel('Loss')\n",
    "plt.xlabel('Epoch')\n",
    "plt.legend(['Train', 'Val'], loc='upper right')\n",
    "plt.show()"
   ]
  },
  {
   "cell_type": "markdown",
   "metadata": {},
   "source": [
    "### The model used on the skin dataset didn't end up working as well as I had hoped. After running 50 epochs, the accuracy came to be about 69.5%.The model's loss came to be around .8 after 50 epochs. The training sets came out to be a lot higher in accuracy than with validation. This means that my data has been overfitted, which is interesting given how large the dataset is.\n",
    "### I want to get my accuracy higher than 70. I decided to change my model architecture to see if that would help the overfitting. Attempting to do this by reducing the number of layers:"
   ]
  },
  {
   "cell_type": "markdown",
   "metadata": {},
   "source": [
    "#### Adding the first convolution layer to extract the features first\n",
    "#### 3x3 relu and input shape 32,32,3\n",
    "#### And then create another layer without the input_shape:"
   ]
  },
  {
   "cell_type": "code",
   "execution_count": 35,
   "metadata": {},
   "outputs": [],
   "source": [
    "model = Sequential()\n",
    "model.add(Conv2D(32, kernel_size= (3,3), activation= 'relu', padding= 'SAME', input_shape = (32, 32, 3)))\n",
    "model.add(Conv2D(32, kernel_size= (3,3), activation= 'relu', padding= 'SAME'))"
   ]
  },
  {
   "cell_type": "markdown",
   "metadata": {},
   "source": [
    "#### Add pooling layer with a 2x2 pixel filter to get the max element from the feature maps. Reduces the dimension of the feature maps by half. Adding dropout of .2:"
   ]
  },
  {
   "cell_type": "code",
   "execution_count": 36,
   "metadata": {},
   "outputs": [],
   "source": [
    "model.add(MaxPool2D(pool_size= (2, 2)))\n",
    "model.add(Dropout(0.25))"
   ]
  },
  {
   "cell_type": "markdown",
   "metadata": {},
   "source": [
    "#### 64 neurons in next two layers, adding pooling layer with 2x2 pixel filter and adding dropout of .4:"
   ]
  },
  {
   "cell_type": "code",
   "execution_count": 37,
   "metadata": {},
   "outputs": [],
   "source": [
    "model.add(Conv2D(64, kernel_size= (3,3), activation= 'relu', padding= 'SAME'))\n",
    "model.add(Conv2D(64, kernel_size= (3,3), activation= 'relu', padding= 'SAME'))\n",
    "model.add(MaxPool2D(pool_size= (2, 2)))\n",
    "model.add(Dropout(0.4))"
   ]
  },
  {
   "cell_type": "markdown",
   "metadata": {},
   "source": [
    "#### Adding flattening layer to reduce the image to a linear array, and then using 128 neurons in next layer. Adding dropout of 0.5:"
   ]
  },
  {
   "cell_type": "code",
   "execution_count": 38,
   "metadata": {},
   "outputs": [],
   "source": [
    "model.add(Flatten())\n",
    "model.add(Dense(128, activation= 'relu'))\n",
    "model.add(Dropout(0.5))"
   ]
  },
  {
   "cell_type": "markdown",
   "metadata": {},
   "source": [
    "#### Create the last layer of this neural network with 7 neurons using the softmax function"
   ]
  },
  {
   "cell_type": "code",
   "execution_count": 39,
   "metadata": {},
   "outputs": [],
   "source": [
    "model.add(Dense(7, activation= 'softmax'))"
   ]
  },
  {
   "cell_type": "markdown",
   "metadata": {},
   "source": [
    "#### Model summary. Shows that there are a lot less parameters in this model compared to the last one I tried:"
   ]
  },
  {
   "cell_type": "code",
   "execution_count": 40,
   "metadata": {},
   "outputs": [
    {
     "name": "stdout",
     "output_type": "stream",
     "text": [
      "Model: \"sequential_2\"\n",
      "_________________________________________________________________\n",
      "Layer (type)                 Output Shape              Param #   \n",
      "=================================================================\n",
      "conv2d_7 (Conv2D)            (None, 32, 32, 32)        896       \n",
      "_________________________________________________________________\n",
      "conv2d_8 (Conv2D)            (None, 32, 32, 32)        9248      \n",
      "_________________________________________________________________\n",
      "max_pooling2d_4 (MaxPooling2 (None, 16, 16, 32)        0         \n",
      "_________________________________________________________________\n",
      "dropout_7 (Dropout)          (None, 16, 16, 32)        0         \n",
      "_________________________________________________________________\n",
      "conv2d_9 (Conv2D)            (None, 16, 16, 64)        18496     \n",
      "_________________________________________________________________\n",
      "conv2d_10 (Conv2D)           (None, 16, 16, 64)        36928     \n",
      "_________________________________________________________________\n",
      "max_pooling2d_5 (MaxPooling2 (None, 8, 8, 64)          0         \n",
      "_________________________________________________________________\n",
      "dropout_8 (Dropout)          (None, 8, 8, 64)          0         \n",
      "_________________________________________________________________\n",
      "flatten_2 (Flatten)          (None, 4096)              0         \n",
      "_________________________________________________________________\n",
      "dense_4 (Dense)              (None, 128)               524416    \n",
      "_________________________________________________________________\n",
      "dropout_9 (Dropout)          (None, 128)               0         \n",
      "_________________________________________________________________\n",
      "dense_5 (Dense)              (None, 7)                 903       \n",
      "=================================================================\n",
      "Total params: 590,887\n",
      "Trainable params: 590,887\n",
      "Non-trainable params: 0\n",
      "_________________________________________________________________\n"
     ]
    }
   ],
   "source": [
    "model.summary()"
   ]
  },
  {
   "cell_type": "markdown",
   "metadata": {},
   "source": [
    "#### Compile model with specific loss function, optimizier, and accuracy metrics. For loss, categorical_cross-entropy :"
   ]
  },
  {
   "cell_type": "code",
   "execution_count": 41,
   "metadata": {},
   "outputs": [],
   "source": [
    "model.compile(loss='categorical_crossentropy', optimizer='adam',metrics=['accuracy'])"
   ]
  },
  {
   "cell_type": "markdown",
   "metadata": {},
   "source": [
    "#### "
   ]
  },
  {
   "cell_type": "code",
   "execution_count": 42,
   "metadata": {},
   "outputs": [
    {
     "name": "stdout",
     "output_type": "stream",
     "text": [
      "Train on 5608 samples, validate on 2404 samples\n",
      "Epoch 1/50\n",
      "5608/5608 [==============================] - 26s 5ms/step - loss: 1.1476 - acc: 0.6396 - val_loss: 0.9821 - val_acc: 0.6801\n",
      "Epoch 2/50\n",
      "5608/5608 [==============================] - 23s 4ms/step - loss: 0.9431 - acc: 0.6692 - val_loss: 0.9237 - val_acc: 0.6826\n",
      "Epoch 3/50\n",
      "5608/5608 [==============================] - 27s 5ms/step - loss: 0.8866 - acc: 0.6714 - val_loss: 0.8698 - val_acc: 0.6947\n",
      "Epoch 4/50\n",
      "5608/5608 [==============================] - 27s 5ms/step - loss: 0.8719 - acc: 0.6871 - val_loss: 0.8415 - val_acc: 0.6980\n",
      "Epoch 5/50\n",
      "5608/5608 [==============================] - 25s 4ms/step - loss: 0.8424 - acc: 0.6878 - val_loss: 0.8150 - val_acc: 0.7013\n",
      "Epoch 6/50\n",
      "5608/5608 [==============================] - 25s 4ms/step - loss: 0.8192 - acc: 0.7042 - val_loss: 0.8006 - val_acc: 0.7076\n",
      "Epoch 7/50\n",
      "5608/5608 [==============================] - 23s 4ms/step - loss: 0.7990 - acc: 0.7049 - val_loss: 0.7762 - val_acc: 0.7209\n",
      "Epoch 8/50\n",
      "5608/5608 [==============================] - 24s 4ms/step - loss: 0.7644 - acc: 0.7142 - val_loss: 0.7814 - val_acc: 0.7196\n",
      "Epoch 9/50\n",
      "5608/5608 [==============================] - 24s 4ms/step - loss: 0.7609 - acc: 0.7163 - val_loss: 0.7499 - val_acc: 0.7255\n",
      "Epoch 10/50\n",
      "5608/5608 [==============================] - 23s 4ms/step - loss: 0.7423 - acc: 0.7249 - val_loss: 0.7473 - val_acc: 0.7225\n",
      "Epoch 11/50\n",
      "5608/5608 [==============================] - 23s 4ms/step - loss: 0.7249 - acc: 0.7266 - val_loss: 0.7249 - val_acc: 0.7309\n",
      "Epoch 12/50\n",
      "5608/5608 [==============================] - 23s 4ms/step - loss: 0.7107 - acc: 0.7389 - val_loss: 0.7287 - val_acc: 0.7329\n",
      "Epoch 13/50\n",
      "5608/5608 [==============================] - 23s 4ms/step - loss: 0.7052 - acc: 0.7341 - val_loss: 0.7242 - val_acc: 0.7363\n",
      "Epoch 14/50\n",
      "5608/5608 [==============================] - 23s 4ms/step - loss: 0.6717 - acc: 0.7532 - val_loss: 0.7107 - val_acc: 0.7408\n",
      "Epoch 15/50\n",
      "5608/5608 [==============================] - 23s 4ms/step - loss: 0.6664 - acc: 0.7509 - val_loss: 0.7133 - val_acc: 0.7429\n",
      "Epoch 16/50\n",
      "5608/5608 [==============================] - 23s 4ms/step - loss: 0.6493 - acc: 0.7564 - val_loss: 0.6950 - val_acc: 0.7558\n",
      "Epoch 17/50\n",
      "5608/5608 [==============================] - 24s 4ms/step - loss: 0.6308 - acc: 0.7632 - val_loss: 0.6883 - val_acc: 0.7666\n",
      "Epoch 18/50\n",
      "5608/5608 [==============================] - 26s 5ms/step - loss: 0.6194 - acc: 0.7687 - val_loss: 0.6918 - val_acc: 0.7558\n",
      "Epoch 19/50\n",
      "5608/5608 [==============================] - 27s 5ms/step - loss: 0.6162 - acc: 0.7666 - val_loss: 0.7175 - val_acc: 0.7392\n",
      "Epoch 20/50\n",
      "5608/5608 [==============================] - 26s 5ms/step - loss: 0.6110 - acc: 0.7693 - val_loss: 0.6813 - val_acc: 0.7587\n",
      "Epoch 21/50\n",
      "5608/5608 [==============================] - 27s 5ms/step - loss: 0.5856 - acc: 0.7721 - val_loss: 0.6960 - val_acc: 0.7637\n",
      "Epoch 22/50\n",
      "5608/5608 [==============================] - 28s 5ms/step - loss: 0.5705 - acc: 0.7869 - val_loss: 0.6813 - val_acc: 0.7621\n",
      "Epoch 23/50\n",
      "5608/5608 [==============================] - 25s 4ms/step - loss: 0.5575 - acc: 0.7912 - val_loss: 0.7101 - val_acc: 0.7596\n",
      "Epoch 24/50\n",
      "5608/5608 [==============================] - 23s 4ms/step - loss: 0.5349 - acc: 0.7937 - val_loss: 0.6834 - val_acc: 0.7654\n",
      "Epoch 25/50\n",
      "5608/5608 [==============================] - 26s 5ms/step - loss: 0.5168 - acc: 0.8010 - val_loss: 0.6779 - val_acc: 0.7666\n",
      "Epoch 26/50\n",
      "5608/5608 [==============================] - 23s 4ms/step - loss: 0.5267 - acc: 0.7974 - val_loss: 0.6885 - val_acc: 0.7729\n",
      "Epoch 27/50\n",
      "5608/5608 [==============================] - 24s 4ms/step - loss: 0.5061 - acc: 0.8031 - val_loss: 0.6960 - val_acc: 0.7608\n",
      "Epoch 28/50\n",
      "5608/5608 [==============================] - 27s 5ms/step - loss: 0.4999 - acc: 0.8119 - val_loss: 0.6797 - val_acc: 0.7587\n",
      "Epoch 29/50\n",
      "5608/5608 [==============================] - 25s 4ms/step - loss: 0.4883 - acc: 0.8099 - val_loss: 0.6834 - val_acc: 0.7687\n",
      "Epoch 30/50\n",
      "5608/5608 [==============================] - 26s 5ms/step - loss: 0.4714 - acc: 0.8158 - val_loss: 0.7077 - val_acc: 0.7596\n",
      "Epoch 31/50\n",
      "5608/5608 [==============================] - 25s 5ms/step - loss: 0.4654 - acc: 0.8192 - val_loss: 0.7815 - val_acc: 0.7521\n",
      "Epoch 32/50\n",
      "5608/5608 [==============================] - 28s 5ms/step - loss: 0.4620 - acc: 0.8211 - val_loss: 0.7159 - val_acc: 0.7696\n",
      "Epoch 33/50\n",
      "5608/5608 [==============================] - 26s 5ms/step - loss: 0.4588 - acc: 0.8254 - val_loss: 0.6995 - val_acc: 0.7729\n",
      "Epoch 34/50\n",
      "5608/5608 [==============================] - 27s 5ms/step - loss: 0.4403 - acc: 0.8336 - val_loss: 0.6827 - val_acc: 0.7758\n",
      "Epoch 35/50\n",
      "5608/5608 [==============================] - 26s 5ms/step - loss: 0.4180 - acc: 0.8374 - val_loss: 0.7380 - val_acc: 0.7583\n",
      "Epoch 36/50\n",
      "5608/5608 [==============================] - 24s 4ms/step - loss: 0.4171 - acc: 0.8347 - val_loss: 0.7337 - val_acc: 0.7637\n",
      "Epoch 37/50\n",
      "5608/5608 [==============================] - 25s 4ms/step - loss: 0.4185 - acc: 0.8443 - val_loss: 0.7250 - val_acc: 0.7658\n",
      "Epoch 38/50\n",
      "5608/5608 [==============================] - 29s 5ms/step - loss: 0.3987 - acc: 0.8452 - val_loss: 0.7251 - val_acc: 0.7554\n",
      "Epoch 39/50\n",
      "5608/5608 [==============================] - 24s 4ms/step - loss: 0.3909 - acc: 0.8518 - val_loss: 0.7292 - val_acc: 0.7741\n",
      "Epoch 40/50\n",
      "5608/5608 [==============================] - 25s 5ms/step - loss: 0.3695 - acc: 0.8598 - val_loss: 0.7392 - val_acc: 0.7729\n",
      "Epoch 41/50\n",
      "5608/5608 [==============================] - 29s 5ms/step - loss: 0.3625 - acc: 0.8579 - val_loss: 0.7548 - val_acc: 0.7683\n",
      "Epoch 42/50\n",
      "5608/5608 [==============================] - 25s 5ms/step - loss: 0.3521 - acc: 0.8647 - val_loss: 0.7625 - val_acc: 0.7691\n",
      "Epoch 43/50\n",
      "5608/5608 [==============================] - 27s 5ms/step - loss: 0.3559 - acc: 0.8593 - val_loss: 0.7678 - val_acc: 0.7679\n",
      "Epoch 44/50\n",
      "5608/5608 [==============================] - 24s 4ms/step - loss: 0.3369 - acc: 0.8711 - val_loss: 0.7884 - val_acc: 0.7766\n",
      "Epoch 45/50\n",
      "5608/5608 [==============================] - 26s 5ms/step - loss: 0.3440 - acc: 0.8700 - val_loss: 0.8166 - val_acc: 0.7633\n",
      "Epoch 46/50\n",
      "5608/5608 [==============================] - 26s 5ms/step - loss: 0.3430 - acc: 0.8664 - val_loss: 0.7741 - val_acc: 0.7691\n",
      "Epoch 47/50\n",
      "5608/5608 [==============================] - 27s 5ms/step - loss: 0.3216 - acc: 0.8754 - val_loss: 0.7914 - val_acc: 0.7625\n",
      "Epoch 48/50\n",
      "5608/5608 [==============================] - 27s 5ms/step - loss: 0.3176 - acc: 0.8786 - val_loss: 0.7766 - val_acc: 0.7716\n",
      "Epoch 49/50\n",
      "5608/5608 [==============================] - 26s 5ms/step - loss: 0.3039 - acc: 0.8811 - val_loss: 0.8161 - val_acc: 0.7625\n",
      "Epoch 50/50\n",
      "5608/5608 [==============================] - 23s 4ms/step - loss: 0.2978 - acc: 0.8821 - val_loss: 0.8259 - val_acc: 0.7604\n"
     ]
    }
   ],
   "source": [
    "hist = model.fit(X_train, y_train, batch_size=256, epochs=50, validation_split=0.3)"
   ]
  },
  {
   "cell_type": "markdown",
   "metadata": {},
   "source": [
    "#### Evaluating the model:¶"
   ]
  },
  {
   "cell_type": "code",
   "execution_count": 43,
   "metadata": {},
   "outputs": [
    {
     "name": "stdout",
     "output_type": "stream",
     "text": [
      "2003/2003 [==============================] - 2s 1ms/step\n"
     ]
    },
    {
     "data": {
      "text/plain": [
       "[0.9139405119377437, 0.7483774341170454]"
      ]
     },
     "execution_count": 43,
     "metadata": {},
     "output_type": "execute_result"
    }
   ],
   "source": [
    "model.evaluate(X_test, y_test)"
   ]
  },
  {
   "cell_type": "markdown",
   "metadata": {},
   "source": [
    "#### Plotting model accuracy to the number of epochs:"
   ]
  },
  {
   "cell_type": "code",
   "execution_count": 44,
   "metadata": {},
   "outputs": [
    {
     "data": {
      "image/png": "[encoded data removed]",
      "text/plain": [
       "<Figure size 432x288 with 1 Axes>"
      ]
     },
     "metadata": {
      "needs_background": "light"
     },
     "output_type": "display_data"
    }
   ],
   "source": [
    "plt.plot(hist.history['acc'])\n",
    "plt.plot(hist.history['val_acc'])\n",
    "plt.title('Model accuracy')\n",
    "plt.ylabel('Accuracy')\n",
    "plt.xlabel('Epoch')\n",
    "plt.legend(['Train', 'Val'], loc='upper left')\n",
    "plt.show()"
   ]
  },
  {
   "cell_type": "markdown",
   "metadata": {},
   "source": [
    "#### Plotting the model loss to the number of epochs:"
   ]
  },
  {
   "cell_type": "code",
   "execution_count": 45,
   "metadata": {},
   "outputs": [
    {
     "data": {
      "image/png": "[encoded data removed]",
      "text/plain": [
       "<Figure size 432x288 with 1 Axes>"
      ]
     },
     "metadata": {
      "needs_background": "light"
     },
     "output_type": "display_data"
    }
   ],
   "source": [
    "plt.plot(hist.history['loss'])\n",
    "plt.plot(hist.history['val_loss'])\n",
    "plt.title('Model loss')\n",
    "plt.ylabel('Loss')\n",
    "plt.xlabel('Epoch')\n",
    "plt.legend(['Train', 'Val'], loc='upper right')\n",
    "plt.show()"
   ]
  },
  {
   "cell_type": "markdown",
   "metadata": {},
   "source": [
    "### The model used on the skin dataset came out to be relatively accurate. After running 50 epochs, the accuracy came to be about 75%. The model's loss came to be around .75 after 50 epochs as well. This model is an improvement to the last one, which gave an accuracy score of 69% for the validation set. \n",
    "### I definitely think reducing the number of layers helped with improving the performance of the model. I did try to increase the size of the images to larger than 32x32 pixels to see if this was having an impact on the performance of the model and if the more detailed images would increase my accuracy, but it did not show an improvement."
   ]
  },
  {
   "cell_type": "code",
   "execution_count": null,
   "metadata": {},
   "outputs": [],
   "source": []
  }
 ],
 "metadata": {
  "kernelspec": {
   "display_name": "Python 3",
   "language": "python",
   "name": "python3"
  },
  "language_info": {
   "codemirror_mode": {
    "name": "ipython",
    "version": 3
   },
   "file_extension": ".py",
   "mimetype": "text/x-python",
   "name": "python",
   "nbconvert_exporter": "python",
   "pygments_lexer": "ipython3",
   "version": "3.7.4"
  }
 },
 "nbformat": 4,
 "nbformat_minor": 4
}
